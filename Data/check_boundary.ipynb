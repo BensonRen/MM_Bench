{
 "metadata": {
  "language_info": {
   "codemirror_mode": {
    "name": "ipython",
    "version": 3
   },
   "file_extension": ".py",
   "mimetype": "text/x-python",
   "name": "python",
   "nbconvert_exporter": "python",
   "pygments_lexer": "ipython3",
   "version": "3.7.9-final"
  },
  "orig_nbformat": 2,
  "kernelspec": {
   "name": "python3",
   "display_name": "Python 3.7.9 64-bit",
   "metadata": {
    "interpreter": {
     "hash": "6fc8b73020395002b257a44de5fd6fa1e45814af8917351ae38e52a31055def3"
    }
   }
  }
 },
 "nbformat": 4,
 "nbformat_minor": 2,
 "cells": [
  {
   "source": [
    "# Check boundary for datasets\n",
    "## This is a script for checking the geometry boundary of the Chen and Perifoy datasets. It turns out that there is problem with the normalize np function since the simulator would need to restore the original range to function propoerly. Therefore we are changing from automatic normalization to manual normalization (therefore we need to know the range of the geometries) "
   ],
   "cell_type": "markdown",
   "metadata": {}
  },
  {
   "cell_type": "code",
   "execution_count": 1,
   "metadata": {},
   "outputs": [],
   "source": [
    "import numpy as np\n",
    "import pandas as pd\n"
   ]
  },
  {
   "cell_type": "code",
   "execution_count": 6,
   "metadata": {},
   "outputs": [
    {
     "output_type": "stream",
     "name": "stdout",
     "text": [
      "Dim 0 max is 70.0 min is 30.0\nDim 1 max is 70.0 min is 30.0\nDim 2 max is 70.0 min is 30.0\n"
     ]
    }
   ],
   "source": [
    "Peurifoy = pd.read_csv('Peurifoy/data_x.csv',header=None).values\n",
    "#print(Peurifoy)\n",
    "for i in range(np.shape(Peurifoy)[1]):\n",
    "    print('Dim {} max is {} min is {}'.format(i, np.max(Peurifoy[:, i]), np.min(Peurifoy[:, i])))"
   ]
  },
  {
   "cell_type": "code",
   "execution_count": 7,
   "metadata": {},
   "outputs": [
    {
     "output_type": "stream",
     "name": "stdout",
     "text": [
      "Dim 0 max is 49.9993057450616 min is 5.001746746622574\nDim 1 max is 49.99929476499003 min is 5.000424079186947\nDim 2 max is 49.998769645660005 min is 5.000769303049824\n"
     ]
    }
   ],
   "source": [
    "Chen = pd.read_csv('Chen/data_x.csv',header=None).values\n",
    "#print(Peurifoy)\n",
    "for i in range(np.shape(Peurifoy)[1]):\n",
    "    print('Dim {} max is {} min is {}'.format(i, np.max(Chen[:, i]), np.min(Chen[:, i])))"
   ]
  },
  {
   "cell_type": "code",
   "execution_count": null,
   "metadata": {},
   "outputs": [],
   "source": []
  }
 ]
}